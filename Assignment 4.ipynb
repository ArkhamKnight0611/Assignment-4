{
 "cells": [
  {
   "cell_type": "code",
   "execution_count": 8,
   "id": "11643af4-c38b-446d-88ce-33fc39855f03",
   "metadata": {},
   "outputs": [
    {
     "name": "stdout",
     "output_type": "stream",
     "text": [
      "1\n",
      "I am Sumedh\n",
      "I got Rank  2\n",
      "I am Sushank\n",
      "I got Rank  3\n",
      "I am Shlok\n",
      "I got Rank  4\n"
     ]
    }
   ],
   "source": [
    "#Encapsulation example\n",
    "class Students:\n",
    "   def __init__(self, aname, arank, ascore):\n",
    "      self.__name = aname\n",
    "      self.__rank = arank\n",
    "      self.__points = ascore\n",
    "\n",
    "   def demofunc(self):\n",
    "      print(\"I am \"+self.__name)\n",
    "      print(\"I got Rank \",+self.__rank)\n",
    "\n",
    "st1 = Students(\"Aayush\", 1, 100)\n",
    "st2 = Students(\"Sumedh\", 2, 90)\n",
    "st3 = Students(\"Sushank\", 3, 76)\n",
    "st4 = Students(\"Shlok\", 4, 60)\n",
    "\n",
    "print(st1._Students__rank)\n",
    "st2.demofunc()\n",
    "st3.demofunc()\n",
    "st4.demofunc()"
   ]
  },
  {
   "cell_type": "code",
   "execution_count": 9,
   "id": "ed3e77cc-33d9-45d0-b6e5-c6f169d3816d",
   "metadata": {},
   "outputs": [],
   "source": [
    "#Abstraction In OOP\n",
    "#In simple terms, abstraction “displays” only the relevant attributes of objects and “hides” the unnecessary details.\n",
    "#Abstraction\n",
    "# 1)Abstraction is the process or method of gaining the information.\n",
    "#  2)In abstraction, problems are solved at the design or interface level.\n",
    "#  3)Abstraction is the method of hiding the unwanted information.\n",
    "\n",
    "#Encapsulation\n",
    " # While encapsulation is the process or method to contain the information.\n",
    " # While in encapsulation, problems are solved at the implementation level.\n",
    " # Whereas encapsulation is a method to hide the data in a single entity or unit along with a method to protect information from outside.\n"
   ]
  },
  {
   "cell_type": "code",
   "execution_count": 12,
   "id": "21467b20-8948-4b23-ad6f-e74341ce09d7",
   "metadata": {},
   "outputs": [
    {
     "name": "stdout",
     "output_type": "stream",
     "text": [
      "Tier 1 city\n",
      "Tier 2 city\n",
      "Tier 3 city\n"
     ]
    }
   ],
   "source": [
    "#Abstraction example\n",
    "import abc\n",
    "class City:\n",
    "  @abc.abstractmethod\n",
    "  def citytype(self):\n",
    "    pass\n",
    "class Mumbai(City):\n",
    "  def citytype(self):\n",
    "    print(\"Tier 1 city\")\n",
    "class Jaipur(City):\n",
    "  def citytype(self):\n",
    "    print(\"Tier 2 city\")\n",
    "class Patna(City):\n",
    "  def citytype(self):\n",
    "    print(\"Tier 3 city\")\n",
    "\n",
    "a=Mumbai()\n",
    "b=Jaipur()\n",
    "c=Patna()\n",
    "a.citytype()\n",
    "b.citytype()\n",
    "c.citytype()\n",
    "\n"
   ]
  },
  {
   "cell_type": "code",
   "execution_count": 11,
   "id": "60ff9799-e83f-47c3-b910-c0d0b6152372",
   "metadata": {},
   "outputs": [],
   "source": [
    "#The 'abc' module in Python library provides the infrastructure for defining custom abstract base classes.\n",
    "#'abc' works by marking methods of the base class as abstract. This is done by @absttractmethod decorator. "
   ]
  },
  {
   "cell_type": "code",
   "execution_count": 13,
   "id": "cfcb2e59-ed78-4243-82c9-7c0b1ea57c7f",
   "metadata": {},
   "outputs": [],
   "source": [
    "# Data Abstraction in Python can be achieved through creating abstract classes and inheriting them later.\n",
    "# Before discussing what abstract classes are, let us have a brief introduction of inheritance.\n",
    "# Inheritance in OOP is a way through which one class inherits the attributes and methods of another class"
   ]
  },
  {
   "cell_type": "code",
   "execution_count": 14,
   "id": "9a8a7a0c-7e41-4363-85f7-a9dd8df9e547",
   "metadata": {},
   "outputs": [],
   "source": [
    "#Abstract Class Instantiation\n",
    "#Abstract classes are not complete, as they may have some methods that are not defined.\n",
    "#So we cannot create an instance or object of an abstract class in Python. \n",
    "#If we try to instantiate the abstract class, it raises an error."
   ]
  },
  {
   "cell_type": "code",
   "execution_count": null,
   "id": "d7b15ce9-8a83-4a69-b19d-f650a0c292b2",
   "metadata": {},
   "outputs": [],
   "source": []
  }
 ],
 "metadata": {
  "kernelspec": {
   "display_name": "Python 3 (ipykernel)",
   "language": "python",
   "name": "python3"
  },
  "language_info": {
   "codemirror_mode": {
    "name": "ipython",
    "version": 3
   },
   "file_extension": ".py",
   "mimetype": "text/x-python",
   "name": "python",
   "nbconvert_exporter": "python",
   "pygments_lexer": "ipython3",
   "version": "3.10.8"
  }
 },
 "nbformat": 4,
 "nbformat_minor": 5
}
